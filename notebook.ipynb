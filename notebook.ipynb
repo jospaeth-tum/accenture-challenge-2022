{
 "cells": [
  {
   "cell_type": "markdown",
   "metadata": {},
   "source": [
    "# Accenture Supply Chain Challenge"
   ]
  },
  {
   "cell_type": "code",
   "execution_count": null,
   "metadata": {},
   "outputs": [],
   "source": [
    "import pandas as pd\n",
    "import numpy as np\n",
    "\n",
    "data_dir = './data/'"
   ]
  },
  {
   "cell_type": "markdown",
   "metadata": {},
   "source": [
    "## Global Variables"
   ]
  },
  {
   "cell_type": "code",
   "execution_count": null,
   "metadata": {},
   "outputs": [],
   "source": [
    "# ports that are the same but have different names (data cleaning)\n",
    "same_ports =  {\n",
    "    'ATHENAS': 'Athens',\n",
    "    'BCN': 'Barcelona',\n",
    "}\n",
    "\n",
    "# converters function for pd.read_csv()\n",
    "convs = {\n",
    "    'origin_port': lambda x: same_ports[x] if x in same_ports else x\n",
    "}"
   ]
  },
  {
   "cell_type": "markdown",
   "metadata": {},
   "source": [
    "## Orders"
   ]
  },
  {
   "cell_type": "code",
   "execution_count": null,
   "metadata": {},
   "outputs": [],
   "source": [
    "orders = pd.read_csv(data_dir + \"orders.csv\", sep=';', converters=convs, na_filter=False)\n",
    "\n",
    "print(f'Total number of orders: {orders.size}')\n",
    "orders.head()"
   ]
  },
  {
   "cell_type": "code",
   "execution_count": null,
   "metadata": {},
   "outputs": [],
   "source": [
    "# orders grouped by origin port\n",
    "orders_per_port = orders.groupby(by='origin_port').agg({'order_id': 'count', 'units': 'sum'})\n",
    "orders_per_port"
   ]
  },
  {
   "cell_type": "code",
   "execution_count": null,
   "metadata": {},
   "outputs": [],
   "source": [
    "# orders grouped by origin port and logistic hub\n",
    "orders.groupby(by=['origin_port','logistic_hub']).agg({'units': 'sum'})"
   ]
  },
  {
   "cell_type": "markdown",
   "metadata": {},
   "source": [
    "### Effect of Customs Procedures on Lateness"
   ]
  },
  {
   "cell_type": "code",
   "execution_count": null,
   "metadata": {},
   "outputs": [],
   "source": [
    "a = orders[orders['late_order'] == True].groupby(by=['origin_port', 'customs_procedures']).count()[['order_id']]\n",
    "b = orders.groupby(by=['origin_port', 'customs_procedures']).count()[['order_id']]\n",
    "c = a/b\n",
    "\n",
    "c.plot(kind='bar')"
   ]
  },
  {
   "cell_type": "markdown",
   "metadata": {},
   "source": [
    "### Effect of Origin Port on Lateness"
   ]
  },
  {
   "cell_type": "code",
   "execution_count": null,
   "metadata": {},
   "outputs": [],
   "source": [
    "a = orders[orders['late_order'] == True].groupby(by=['origin_port']).count()[['order_id']]\n",
    "b = orders.groupby(by=['origin_port']).count()[['order_id']]\n",
    "c = a/b\n",
    "\n",
    "c.plot(kind='bar')"
   ]
  },
  {
   "cell_type": "markdown",
   "metadata": {},
   "source": [
    "### Effect of Logistic Hub on Lateness"
   ]
  },
  {
   "cell_type": "code",
   "execution_count": null,
   "metadata": {},
   "outputs": [],
   "source": [
    "a = orders[orders['late_order'] == True].groupby(by=['logistic_hub']).count()[['order_id']]\n",
    "b = orders.groupby(by=['logistic_hub']).count()[['order_id']]\n",
    "c = (a/b).sort_values(by='order_id')\n",
    "\n",
    "c.plot(kind='bar')"
   ]
  },
  {
   "cell_type": "markdown",
   "metadata": {},
   "source": [
    "### Effect of 3rd-party Logistics on Lateness"
   ]
  },
  {
   "cell_type": "code",
   "execution_count": null,
   "metadata": {},
   "outputs": [],
   "source": [
    "a = orders[orders['late_order'] == True].groupby(by=['3pl']).count()[['order_id']]\n",
    "b = orders.groupby(by=['3pl']).count()[['order_id']]\n",
    "c = a/b\n",
    "\n",
    "c.plot(kind='bar')"
   ]
  },
  {
   "cell_type": "markdown",
   "metadata": {},
   "source": [
    "### Effect of Number of Units on Lateness"
   ]
  },
  {
   "cell_type": "code",
   "execution_count": null,
   "metadata": {},
   "outputs": [],
   "source": [
    "max_units = max(orders['units'])\n",
    "unit_groups = 7\n",
    "unit_steps = np.linspace(0, max_units, unit_groups + 1)\n",
    "print(f'max_units: {max_units}')\n",
    "print(f'unit_groups: {unit_groups}')\n",
    "print(f'unit_steps: {unit_steps}')"
   ]
  },
  {
   "cell_type": "code",
   "execution_count": null,
   "metadata": {},
   "outputs": [],
   "source": [
    "late_percentages = []\n",
    "for i in range(len(unit_steps) - 1):\n",
    "    x = orders[orders['units'].between(unit_steps[i], unit_steps[i+1])].groupby('late_order').count()[['units']]\n",
    "    num_late = x['units'][True]\n",
    "    num_in_range = x['units'][True] + x['units'][False]\n",
    "    late_percentages.append(num_late / num_in_range)\n",
    "    print(f'[{unit_steps[i]},{unit_steps[i+1]}]: num_late={num_late}, num_in_range={num_in_range}, percentage={late_percentages[i]}')\n",
    "\n",
    "#a = orders[orders['late_order'] == True].groupby(by=['units']).count()[['order_id']]\n",
    "#b = orders.groupby(by=['units']).count()[['order_id']]\n",
    "#c = a/b\n",
    "\n",
    "pd.Series(late_percentages, unit_steps[:-1]).plot()\n",
    "\n",
    "#c.plot(kind='bar')\n",
    "#orders[orders['units'] < 500].sort_values(by='units').groupby('late_order').sum()[['units']]"
   ]
  },
  {
   "cell_type": "markdown",
   "metadata": {},
   "source": [
    "## Cities"
   ]
  },
  {
   "cell_type": "code",
   "execution_count": null,
   "metadata": {},
   "outputs": [],
   "source": [
    "cities_data = pd.read_csv(data_dir + 'cities_data.csv', sep=';')\n",
    "\n",
    "cities_data.head()"
   ]
  },
  {
   "cell_type": "markdown",
   "metadata": {},
   "source": [
    "## Cities with Costs"
   ]
  },
  {
   "cell_type": "code",
   "execution_count": null,
   "metadata": {},
   "outputs": [],
   "source": [
    "cities_costs = pd.read_csv(data_dir + 'cities_data_costs.csv', sep=',')\n",
    "\n",
    "cities_costs.head()"
   ]
  },
  {
   "cell_type": "markdown",
   "metadata": {},
   "source": [
    "## Product Attributes"
   ]
  },
  {
   "cell_type": "code",
   "execution_count": null,
   "metadata": {},
   "outputs": [],
   "source": [
    "product_attributes = pd.read_csv(data_dir + 'product_attributes.csv', sep=',')\n",
    "\n",
    "product_attributes.head()"
   ]
  },
  {
   "cell_type": "code",
   "execution_count": null,
   "metadata": {},
   "outputs": [],
   "source": [
    "# product attributes grouped by material handling\n",
    "product_attributes.groupby(by='material_handling').agg({'product_id': 'count', 'weight': 'sum'})"
   ]
  },
  {
   "cell_type": "markdown",
   "metadata": {},
   "source": [
    "## Product Weight Classes"
   ]
  },
  {
   "cell_type": "code",
   "execution_count": null,
   "metadata": {},
   "outputs": [],
   "source": [
    "product_weight_classes = pd.read_csv(data_dir + 'product_weight_class.csv', sep=',')\n",
    "\n",
    "product_weight_classes.head()"
   ]
  },
  {
   "cell_type": "code",
   "execution_count": null,
   "metadata": {},
   "outputs": [],
   "source": [
    "# grouped by weight classes\n",
    "product_weight_classes.groupby(by='weight_class').agg({'product_id': 'count'})"
   ]
  }
 ],
 "metadata": {
  "kernelspec": {
   "display_name": "Python 3.8.10 64-bit",
   "language": "python",
   "name": "python3"
  },
  "language_info": {
   "codemirror_mode": {
    "name": "ipython",
    "version": 3
   },
   "file_extension": ".py",
   "mimetype": "text/x-python",
   "name": "python",
   "nbconvert_exporter": "python",
   "pygments_lexer": "ipython3",
   "version": "3.8.10"
  },
  "vscode": {
   "interpreter": {
    "hash": "31f2aee4e71d21fbe5cf8b01ff0e069b9275f58929596ceb00d14d90e3e16cd6"
   }
  }
 },
 "nbformat": 4,
 "nbformat_minor": 4
}
