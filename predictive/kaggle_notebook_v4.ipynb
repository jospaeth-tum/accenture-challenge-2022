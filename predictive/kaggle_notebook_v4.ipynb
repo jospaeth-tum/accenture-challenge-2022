{
 "cells": [
  {
   "cell_type": "code",
   "execution_count": 1,
   "metadata": {},
   "outputs": [],
   "source": [
    "DATA_FOLDER = \"datathon_SC_ACN_22/\"\n",
    "SEP = \";\""
   ]
  },
  {
   "cell_type": "markdown",
   "metadata": {},
   "source": [
    "# Loading and Joining of the given data"
   ]
  },
  {
   "cell_type": "code",
   "execution_count": 2,
   "metadata": {},
   "outputs": [
    {
     "name": "stdout",
     "output_type": "stream",
     "text": [
      "(114276, 9) (28563, 8) (666, 5) (6660, 8) (772, 3) (772, 2)\n",
      "(114276, 23) (28563, 22)\n"
     ]
    }
   ],
   "source": [
    "import pandas as pd\n",
    "\n",
    "# ports that are the same but have different names (data cleaning)\n",
    "same_ports =  {\n",
    "    'ATHENAS': 'Athens',\n",
    "    'BCN': 'Barcelona',\n",
    "}\n",
    "\n",
    "# converters function for pd.read_csv()\n",
    "convs = {\n",
    "    'origin_port': lambda x: same_ports[x] if x in same_ports else x\n",
    "}\n",
    "\n",
    "df_cities = pd.read_csv(DATA_FOLDER + \"cities_data.csv\", sep=SEP)\n",
    "df_cities_costs = pd.read_csv(DATA_FOLDER + \"cities_data_costs.csv\", sep=\",\")\n",
    "df_orders = pd.read_csv(\n",
    "  DATA_FOLDER + \"orders.csv\",\n",
    "  sep=SEP,\n",
    "  na_filter=False,\n",
    "  converters=convs)\n",
    "df_product_attr = pd.read_csv(DATA_FOLDER + \"product_attributes.csv\", sep=\",\")\n",
    "df_product_weight_class = pd.read_csv(DATA_FOLDER + \"product_weight_class.csv\", sep=\",\")\n",
    "df_test = pd.read_csv(\n",
    "  DATA_FOLDER + \"test.csv\",\n",
    "  sep=SEP,\n",
    "  na_filter=False,\n",
    "  converters=convs)\n",
    "print(df_orders.shape, df_test.shape, df_cities.shape, df_cities_costs.shape, df_product_attr.shape, df_product_weight_class.shape)\n",
    "\n",
    "def join_with_product_attr(df, mean_weight=None):\n",
    "  # the inner merge operation would get rid of orders that have product_id -1\n",
    "  df_out = df.merge(df_product_attr, on=\"product_id\", how=\"left\")\n",
    "\n",
    "  # fill NaN values\n",
    "  df_out[\"material_handling\"] = df_out[\"material_handling\"].fillna(-1)\n",
    "\n",
    "  # use mean of weights for missing weights\n",
    "  if mean_weight is None:\n",
    "    mean_weight = df_out[\"weight\"].mean()\n",
    "  df_out[\"weight\"] = df_out[\"weight\"].fillna(mean_weight)\n",
    "\n",
    "  # multiply units with weight, giving total weight\n",
    "  df_out[\"total_weight\"] = df_out[\"units\"] * df_out[\"weight\"]\n",
    "\n",
    "  # include distances\n",
    "\n",
    "  cities_data_nohub = df_cities.copy()\n",
    "  cities_data_nohub['city_to_name'] = ''\n",
    "  cities_data_nohub['city_to_coord'] = ''\n",
    "  cities_data_nohub['distance'] = 0.0\n",
    "  cities_data_nohub = cities_data_nohub.drop_duplicates(['city_from_name'])\n",
    "\n",
    "  cities_data_samecity = df_cities.copy()\n",
    "  cities_data_samecity['city_to_name'] = cities_data_samecity['city_from_name']\n",
    "  cities_data_samecity['city_to_coord'] = cities_data_samecity['city_from_coord']\n",
    "  cities_data_samecity['distance'] = 0.0\n",
    "  cities_data_samecity = cities_data_samecity.drop_duplicates(['city_from_name'])\n",
    "\n",
    "  cities_data_with_nohub = pd.concat([df_cities, cities_data_nohub, cities_data_samecity])\n",
    "\n",
    "  cities_data_reverse = cities_data_with_nohub.rename(columns={\n",
    "      'city_from_name': 'city_to_name',\n",
    "      'city_to_name': 'city_from_name',\n",
    "      'city_from_coord': 'city_to_coord',\n",
    "      'city_to_coord': 'city_from_coord'\n",
    "  })\n",
    "  cities_data_bothway = pd.concat([cities_data_with_nohub, cities_data_reverse]).drop_duplicates(['city_from_name', 'city_to_name'])\n",
    "\n",
    "  # quick fix!\n",
    "  cities_data_bothway = cities_data_bothway.append({\n",
    "      'city_from_name': '',\n",
    "      'city_to_name': 'Porto',\n",
    "      'distance': 1558.0329\n",
    "  }, ignore_index=True).drop_duplicates(['city_from_name', 'city_to_name'], keep='last')\n",
    "\n",
    "  orders_with_distance = df_out.merge(cities_data_bothway, how='left', left_on=['origin_port', 'logistic_hub'], right_on=['city_from_name', 'city_to_name']) \\\n",
    "      .merge(cities_data_bothway, how='left', left_on=['logistic_hub', 'customer'], right_on=['city_from_name', 'city_to_name'], suffixes=('_1', '_2'))\n",
    "\n",
    "  orders_with_distance['total_distance'] = orders_with_distance['distance_1'] + orders_with_distance['distance_2']\n",
    "\n",
    "  return orders_with_distance, mean_weight\n",
    "\n",
    "# join order data with product attributes\n",
    "df_orders, mean_weight = join_with_product_attr(df_orders)\n",
    "df_test, _ = join_with_product_attr(df_test, mean_weight)\n",
    "\n",
    "print(df_orders.shape, df_test.shape)\n",
    "\n",
    "# sort values of test dataset, which will help later with creating the datasets for ML\n",
    "df_orders.sort_values(\"late_order\", inplace=True, ignore_index=True)"
   ]
  },
  {
   "cell_type": "markdown",
   "metadata": {},
   "source": [
    "# Creation of Features"
   ]
  },
  {
   "cell_type": "code",
   "execution_count": 3,
   "metadata": {},
   "outputs": [
    {
     "name": "stdout",
     "output_type": "stream",
     "text": [
      "One Hot Feature size: (114276, 821)\n",
      "Ordinal Feature size: (114276, 9)\n"
     ]
    }
   ],
   "source": [
    "import numpy as np\n",
    "from sklearn.preprocessing import OneHotEncoder, OrdinalEncoder\n",
    "from sklearn.preprocessing import MinMaxScaler, StandardScaler\n",
    "\n",
    "def make_discrete_features(df, discrete_cols, enc, fit):\n",
    "  discrete_raw_features = df[discrete_cols]\n",
    "  if fit:\n",
    "    enc.fit(discrete_raw_features)\n",
    "  transformed = enc.transform(discrete_raw_features)\n",
    "  if hasattr(transformed, \"toarray\"):\n",
    "    transformed = transformed.toarray()\n",
    "  discrete_features = np.array(transformed)\n",
    "  return discrete_features, enc\n",
    "\n",
    "def scale_features(df, col_name, scaler, fit):\n",
    "  unscaled = df[col_name].to_numpy()[:, np.newaxis]\n",
    "  if fit:\n",
    "    scaler.fit(unscaled)\n",
    "  scaled = scaler.transform(unscaled)\n",
    "  return scaled, scaler\n",
    "\n",
    "one_hot_features, enc = make_discrete_features(\n",
    "  df_orders,\n",
    "  [\n",
    "    \"origin_port\",\n",
    "    \"3pl\",\n",
    "    \"customs_procedures\",\n",
    "    \"logistic_hub\",\n",
    "    \"customer\",\n",
    "    \"product_id\",\n",
    "  ],\n",
    "  OneHotEncoder(),\n",
    "  fit=True)\n",
    "\n",
    "ordinal_features, ord_enc = make_discrete_features(\n",
    "  df_orders,\n",
    "  [\n",
    "    \"origin_port\",\n",
    "    \"3pl\",\n",
    "    \"customs_procedures\",\n",
    "    \"logistic_hub\",\n",
    "    \"customer\"\n",
    "  ],\n",
    "  OrdinalEncoder(),\n",
    "  fit=True\n",
    ")\n",
    "\n",
    "# scale the unit values\n",
    "units_scaled, unit_scaler = scale_features(\n",
    "  df_orders,\n",
    "  \"units\",\n",
    "  MinMaxScaler(),\n",
    "  fit=True)\n",
    "\n",
    "# scale the total_weight values\n",
    "total_weight_scaled, weight_scaler = scale_features(\n",
    "  df_orders,\n",
    "  \"total_weight\",\n",
    "  MinMaxScaler(),\n",
    "  fit=True)\n",
    "\n",
    "# scale the total_distance values\n",
    "total_dist_scaled, distance_scaler = scale_features(\n",
    "  df_orders,\n",
    "  \"total_distance\",\n",
    "  MinMaxScaler(),\n",
    "  fit=True)\n",
    "\n",
    "raw_X = np.concatenate([\n",
    "  one_hot_features,\n",
    "  units_scaled,\n",
    "  total_weight_scaled,\n",
    "  total_dist_scaled\n",
    "], axis=1) \n",
    "raw_y = df_orders[\"late_order\"]\n",
    "\n",
    "X_tree = np.concatenate([\n",
    "  ordinal_features,\n",
    "  df_orders[\"product_id\"].to_numpy()[:, np.newaxis],\n",
    "  units_scaled,\n",
    "  total_weight_scaled,\n",
    "  total_dist_scaled\n",
    "], axis=1)\n",
    "\n",
    "print(\"One Hot Feature size:\", raw_X.shape)\n",
    "print(\"Ordinal Feature size:\", X_tree.shape)"
   ]
  },
  {
   "cell_type": "markdown",
   "metadata": {},
   "source": [
    "# Balancing of Targets and Test-Train split"
   ]
  },
  {
   "cell_type": "code",
   "execution_count": 4,
   "metadata": {},
   "outputs": [
    {
     "name": "stdout",
     "output_type": "stream",
     "text": [
      "114276 total\n",
      "{'0': 87120, '1': 27156} -> 0.7623648010080857 negative\n",
      "X: (108624, 821) y: (108624,)\n",
      "ratio: 0.5\n",
      "split at 76036\n"
     ]
    }
   ],
   "source": [
    "### Balance out features and targets\n",
    "\n",
    "# count amount of negatives\n",
    "num_positives = sum(raw_y)\n",
    "num_negatives = len(raw_y) - num_positives\n",
    "\n",
    "assert sum(raw_y[:num_negatives]) == 0\n",
    "assert sum(raw_y[num_negatives:]) == num_positives\n",
    "\n",
    "print(len(raw_y), \"total\")\n",
    "print({\n",
    "  \"0\": num_negatives,\n",
    "  \"1\": num_positives\n",
    "}, \"->\", num_negatives / len(raw_y), \"negative\")\n",
    "\n",
    "# select negative features\n",
    "perm = np.random.permutation(num_negatives)\n",
    "negative_X = raw_X[perm[:num_positives*2]]\n",
    "negative_y = raw_y[perm[:num_positives*2]]\n",
    "\n",
    "# select positive features\n",
    "positive_X = raw_X[num_negatives:]\n",
    "positive_y = raw_y[num_negatives:]\n",
    "\n",
    "# concatenate features\n",
    "X = np.concatenate((negative_X, positive_X, positive_X), axis=0)\n",
    "y = np.concatenate((negative_y, positive_y, positive_y), axis=0)\n",
    "print(\"X:\", X.shape, \"y:\", y.shape)\n",
    "print(\"ratio:\", sum(y) / len(y))\n",
    "\n",
    "# shuffle datasets\n",
    "shuffle_perm = np.random.permutation(len(X))\n",
    "X = X[shuffle_perm]\n",
    "y = y[shuffle_perm]\n",
    "\n",
    "split = (len(y) * 7) // 10\n",
    "print(\"split at\", split)\n",
    "X_train, y_train = X[:split], y[:split]\n",
    "X_test, y_test = X[split:], y[split:]"
   ]
  },
  {
   "cell_type": "markdown",
   "metadata": {},
   "source": [
    "# Model Training"
   ]
  },
  {
   "cell_type": "code",
   "execution_count": 6,
   "metadata": {},
   "outputs": [
    {
     "data": {
      "text/plain": [
       "LogisticRegression(C=1.0, class_weight=None, dual=False, fit_intercept=True,\n",
       "                   intercept_scaling=1, l1_ratio=None, max_iter=100,\n",
       "                   multi_class='auto', n_jobs=None, penalty='l2',\n",
       "                   random_state=None, solver='sag', tol=0.0001, verbose=0,\n",
       "                   warm_start=False)"
      ]
     },
     "execution_count": 6,
     "metadata": {},
     "output_type": "execute_result"
    }
   ],
   "source": [
    "### Train models\n",
    "from sklearn import tree\n",
    "from sklearn.svm import SVC\n",
    "from sklearn.linear_model import LogisticRegression\n",
    "\n",
    "# svm_model = SVC(gamma=\"auto\")\n",
    "# svm_model.fit(X_train, y_train)\n",
    "\n",
    "# this tree model is purely for descriptive purposes, not prediction\n",
    "tree_model = tree.DecisionTreeClassifier()\n",
    "tree_model.fit(X_tree, raw_y)\n",
    "\n",
    "log_model = LogisticRegression(solver=\"sag\")\n",
    "log_model.fit(X_train, y_train)"
   ]
  },
  {
   "cell_type": "code",
   "execution_count": 12,
   "metadata": {},
   "outputs": [
    {
     "data": {
      "image/png": "[encoded data removed]",
      "text/plain": [
       "<Figure size 432x288 with 1 Axes>"
      ]
     },
     "metadata": {
      "needs_background": "light"
     },
     "output_type": "display_data"
    }
   ],
   "source": [
    "import matplotlib.pyplot as plt\n",
    "\n",
    "tree.plot_tree(tree_model, max_depth=2, feature_names=[\n",
    "  \"origin_port\",\n",
    "  \"3pl\",\n",
    "  \"customs_procedures\",\n",
    "  \"logistic_hub\",\n",
    "  \"customer\",\n",
    "  \"product_id\",\n",
    "  \"units\",\n",
    "  \"total_weight\",\n",
    "  \"total_dist\"\n",
    "])\n",
    "plt.savefig(\"tree.svg\", format=\"svg\", fontsize=11)\n",
    "plt.show()"
   ]
  },
  {
   "cell_type": "markdown",
   "metadata": {},
   "source": [
    "# Model Evaluation"
   ]
  },
  {
   "cell_type": "code",
   "execution_count": 9,
   "metadata": {},
   "outputs": [
    {
     "name": "stdout",
     "output_type": "stream",
     "text": [
      "pred [ True  True  True ... False  True  True]\n",
      "true/false ratio 0.4883085798453418\n",
      "log acc: 0.7510126426905609\n"
     ]
    }
   ],
   "source": [
    "# evaluate the approaches\n",
    "def eval_model(pred_fn, name):\n",
    "  pred = pred_fn(X_test)\n",
    "  print(\"pred\", pred)\n",
    "  print(\"true/false ratio\", sum(pred) / len(X_test))\n",
    "  hits = sum([1 if y_hat == y else 0 for (y_hat, y) in zip(pred, y_test) ])\n",
    "  print(name, \"acc:\", hits / len(pred))\n",
    "\n",
    "# eval_model(svm_model.predict, \"svm\")\n",
    "\n",
    "# eval_model(tree_model.predict, \"tree\")\n",
    "# simple: 0.80\n",
    "\n",
    "eval_model(log_model.predict, \"log\")\n",
    "# simple: 0.75\n",
    "\n"
   ]
  },
  {
   "cell_type": "markdown",
   "metadata": {},
   "source": [
    "# Submission"
   ]
  },
  {
   "cell_type": "code",
   "execution_count": 10,
   "metadata": {},
   "outputs": [
    {
     "name": "stdout",
     "output_type": "stream",
     "text": [
      "Feature size: (28563, 821)\n",
      "[[0.75775716 0.24224284]\n",
      " [0.76803898 0.23196102]\n",
      " [0.5542145  0.4457855 ]\n",
      " ...\n",
      " [0.78780911 0.21219089]\n",
      " [0.18265718 0.81734282]\n",
      " [0.53626487 0.46373513]]\n"
     ]
    }
   ],
   "source": [
    "# make features with testing data\n",
    "one_hot_features, _ = make_discrete_features(\n",
    "  df_test,\n",
    "  [\n",
    "    \"origin_port\",\n",
    "    \"3pl\",\n",
    "    \"customs_procedures\",\n",
    "    \"logistic_hub\",\n",
    "    \"customer\",\n",
    "    \"product_id\",\n",
    "  ],\n",
    "  enc,\n",
    "  fit=False)\n",
    "\n",
    "# scale the unit values\n",
    "units_scaled, _ = scale_features(\n",
    "  df_test,\n",
    "  \"units\",\n",
    "  unit_scaler,\n",
    "  fit=False)\n",
    "\n",
    "# scale the unit values\n",
    "total_weight_scaled, _ = scale_features(\n",
    "  df_test,\n",
    "  \"total_weight\",\n",
    "  weight_scaler,\n",
    "  fit=False\n",
    ")\n",
    "\n",
    "total_dist_scaled, _ = scale_features(\n",
    "  df_test,\n",
    "  \"total_distance\",\n",
    "  distance_scaler,\n",
    "  fit=False)\n",
    "\n",
    "X_eval = np.concatenate([\n",
    "  one_hot_features,\n",
    "  units_scaled,\n",
    "  total_weight_scaled,\n",
    "  total_dist_scaled], axis=1) \n",
    "print(\"Feature size:\", X_eval.shape)\n",
    "\n",
    "# evaluate test cases\n",
    "probs = log_model.predict_proba(X_eval)\n",
    "print(probs)\n",
    "\n",
    "# print probabilities\n",
    "submission = pd.DataFrame({\"order_id\": df_test.order_id, \"late_order\": probs[:,1]})\n",
    "submission.to_csv(\"submission/submission_kaggle_test.csv\", index=False)"
   ]
  }
 ],
 "metadata": {
  "kernelspec": {
   "display_name": "Python 3",
   "language": "python",
   "name": "python3"
  },
  "language_info": {
   "codemirror_mode": {
    "name": "ipython",
    "version": 3
   },
   "file_extension": ".py",
   "mimetype": "text/x-python",
   "name": "python",
   "nbconvert_exporter": "python",
   "pygments_lexer": "ipython3",
   "version": "3.8.10"
  },
  "orig_nbformat": 4,
  "vscode": {
   "interpreter": {
    "hash": "767d51c1340bd893661ea55ea3124f6de3c7a262a8b4abca0554b478b1e2ff90"
   }
  }
 },
 "nbformat": 4,
 "nbformat_minor": 2
}
