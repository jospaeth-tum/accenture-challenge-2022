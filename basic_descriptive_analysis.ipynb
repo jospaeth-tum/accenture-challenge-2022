{
 "cells": [
  {
   "cell_type": "markdown",
   "metadata": {},
   "source": [
    "# Accenture Supply Chain Challenge"
   ]
  },
  {
   "cell_type": "code",
   "execution_count": 52,
   "metadata": {},
   "outputs": [],
   "source": [
    "import pandas as pd\n",
    "import numpy as np\n",
    "import matplotlib.pyplot as plt\n",
    "\n",
    "data_dir = './data/'"
   ]
  },
  {
   "cell_type": "markdown",
   "metadata": {},
   "source": [
    "## Global Variables"
   ]
  },
  {
   "cell_type": "code",
   "execution_count": 53,
   "metadata": {},
   "outputs": [],
   "source": [
    "# ports that are the same but have different names (data cleaning)\n",
    "same_ports =  {\n",
    "    'ATHENAS': 'Athens',\n",
    "    'BCN': 'Barcelona',\n",
    "}\n",
    "\n",
    "# converters function for pd.read_csv()\n",
    "convs = {\n",
    "    'origin_port': lambda x: same_ports[x] if x in same_ports else x\n",
    "}"
   ]
  },
  {
   "cell_type": "markdown",
   "metadata": {},
   "source": [
    "## Orders"
   ]
  },
  {
   "cell_type": "code",
   "execution_count": 54,
   "metadata": {},
   "outputs": [
    {
     "name": "stdout",
     "output_type": "stream",
     "text": [
      "Total number of orders: 1028484\n"
     ]
    },
    {
     "data": {
      "text/html": [
       "<div>\n",
       "<style scoped>\n",
       "    .dataframe tbody tr th:only-of-type {\n",
       "        vertical-align: middle;\n",
       "    }\n",
       "\n",
       "    .dataframe tbody tr th {\n",
       "        vertical-align: top;\n",
       "    }\n",
       "\n",
       "    .dataframe thead th {\n",
       "        text-align: right;\n",
       "    }\n",
       "</style>\n",
       "<table border=\"1\" class=\"dataframe\">\n",
       "  <thead>\n",
       "    <tr style=\"text-align: right;\">\n",
       "      <th></th>\n",
       "      <th>order_id</th>\n",
       "      <th>origin_port</th>\n",
       "      <th>3pl</th>\n",
       "      <th>customs_procedures</th>\n",
       "      <th>logistic_hub</th>\n",
       "      <th>customer</th>\n",
       "      <th>product_id</th>\n",
       "      <th>units</th>\n",
       "      <th>late_order</th>\n",
       "    </tr>\n",
       "  </thead>\n",
       "  <tbody>\n",
       "    <tr>\n",
       "      <th>0</th>\n",
       "      <td>366c7a3d298f</td>\n",
       "      <td>Rotterdam</td>\n",
       "      <td>v_002</td>\n",
       "      <td>DTP</td>\n",
       "      <td>Venlo</td>\n",
       "      <td>Marseille</td>\n",
       "      <td>1692723</td>\n",
       "      <td>583</td>\n",
       "      <td>True</td>\n",
       "    </tr>\n",
       "    <tr>\n",
       "      <th>1</th>\n",
       "      <td>45f906331e10</td>\n",
       "      <td>Rotterdam</td>\n",
       "      <td>v_004</td>\n",
       "      <td>CRF</td>\n",
       "      <td>Rome</td>\n",
       "      <td>Marseille</td>\n",
       "      <td>1644308</td>\n",
       "      <td>459</td>\n",
       "      <td>False</td>\n",
       "    </tr>\n",
       "    <tr>\n",
       "      <th>2</th>\n",
       "      <td>ac84a6e4af0f</td>\n",
       "      <td>Athens</td>\n",
       "      <td>v_002</td>\n",
       "      <td>CRF</td>\n",
       "      <td>Venlo</td>\n",
       "      <td>Paris</td>\n",
       "      <td>1684170</td>\n",
       "      <td>464</td>\n",
       "      <td>True</td>\n",
       "    </tr>\n",
       "    <tr>\n",
       "      <th>3</th>\n",
       "      <td>f5e98cb29790</td>\n",
       "      <td>Rotterdam</td>\n",
       "      <td>v_004</td>\n",
       "      <td>CRF</td>\n",
       "      <td>Lille</td>\n",
       "      <td>Milan</td>\n",
       "      <td>1620510</td>\n",
       "      <td>678</td>\n",
       "      <td>False</td>\n",
       "    </tr>\n",
       "    <tr>\n",
       "      <th>4</th>\n",
       "      <td>a9e7c9bee35b</td>\n",
       "      <td>Barcelona</td>\n",
       "      <td>v_002</td>\n",
       "      <td>CRF</td>\n",
       "      <td>Venlo</td>\n",
       "      <td>Berlin</td>\n",
       "      <td>1699372</td>\n",
       "      <td>353</td>\n",
       "      <td>False</td>\n",
       "    </tr>\n",
       "  </tbody>\n",
       "</table>\n",
       "</div>"
      ],
      "text/plain": [
       "       order_id origin_port    3pl customs_procedures logistic_hub   customer  \\\n",
       "0  366c7a3d298f   Rotterdam  v_002                DTP        Venlo  Marseille   \n",
       "1  45f906331e10   Rotterdam  v_004                CRF         Rome  Marseille   \n",
       "2  ac84a6e4af0f      Athens  v_002                CRF        Venlo      Paris   \n",
       "3  f5e98cb29790   Rotterdam  v_004                CRF        Lille      Milan   \n",
       "4  a9e7c9bee35b   Barcelona  v_002                CRF        Venlo     Berlin   \n",
       "\n",
       "   product_id  units  late_order  \n",
       "0     1692723    583        True  \n",
       "1     1644308    459       False  \n",
       "2     1684170    464        True  \n",
       "3     1620510    678       False  \n",
       "4     1699372    353       False  "
      ]
     },
     "execution_count": 54,
     "metadata": {},
     "output_type": "execute_result"
    }
   ],
   "source": [
    "orders = pd.read_csv(data_dir + \"orders.csv\", sep=';', converters=convs, na_filter=False)\n",
    "\n",
    "print(f'Total number of orders: {orders.size}')\n",
    "orders.head()"
   ]
  },
  {
   "cell_type": "code",
   "execution_count": 55,
   "metadata": {},
   "outputs": [
    {
     "data": {
      "text/html": [
       "<div>\n",
       "<style scoped>\n",
       "    .dataframe tbody tr th:only-of-type {\n",
       "        vertical-align: middle;\n",
       "    }\n",
       "\n",
       "    .dataframe tbody tr th {\n",
       "        vertical-align: top;\n",
       "    }\n",
       "\n",
       "    .dataframe thead th {\n",
       "        text-align: right;\n",
       "    }\n",
       "</style>\n",
       "<table border=\"1\" class=\"dataframe\">\n",
       "  <thead>\n",
       "    <tr style=\"text-align: right;\">\n",
       "      <th></th>\n",
       "      <th>order_id</th>\n",
       "      <th>units</th>\n",
       "    </tr>\n",
       "    <tr>\n",
       "      <th>origin_port</th>\n",
       "      <th></th>\n",
       "      <th></th>\n",
       "    </tr>\n",
       "  </thead>\n",
       "  <tbody>\n",
       "    <tr>\n",
       "      <th>Athens</th>\n",
       "      <td>27529</td>\n",
       "      <td>13348031</td>\n",
       "    </tr>\n",
       "    <tr>\n",
       "      <th>Barcelona</th>\n",
       "      <td>21556</td>\n",
       "      <td>10465714</td>\n",
       "    </tr>\n",
       "    <tr>\n",
       "      <th>Rotterdam</th>\n",
       "      <td>65191</td>\n",
       "      <td>31600437</td>\n",
       "    </tr>\n",
       "  </tbody>\n",
       "</table>\n",
       "</div>"
      ],
      "text/plain": [
       "             order_id     units\n",
       "origin_port                    \n",
       "Athens          27529  13348031\n",
       "Barcelona       21556  10465714\n",
       "Rotterdam       65191  31600437"
      ]
     },
     "execution_count": 55,
     "metadata": {},
     "output_type": "execute_result"
    }
   ],
   "source": [
    "# orders grouped by origin port\n",
    "orders_per_port = orders.groupby(by='origin_port').agg({'order_id': 'count', 'units': 'sum'})\n",
    "orders_per_port"
   ]
  },
  {
   "cell_type": "code",
   "execution_count": 56,
   "metadata": {},
   "outputs": [
    {
     "data": {
      "text/html": [
       "<div>\n",
       "<style scoped>\n",
       "    .dataframe tbody tr th:only-of-type {\n",
       "        vertical-align: middle;\n",
       "    }\n",
       "\n",
       "    .dataframe tbody tr th {\n",
       "        vertical-align: top;\n",
       "    }\n",
       "\n",
       "    .dataframe thead th {\n",
       "        text-align: right;\n",
       "    }\n",
       "</style>\n",
       "<table border=\"1\" class=\"dataframe\">\n",
       "  <thead>\n",
       "    <tr style=\"text-align: right;\">\n",
       "      <th></th>\n",
       "      <th></th>\n",
       "      <th>units</th>\n",
       "    </tr>\n",
       "    <tr>\n",
       "      <th>origin_port</th>\n",
       "      <th>logistic_hub</th>\n",
       "      <th></th>\n",
       "    </tr>\n",
       "  </thead>\n",
       "  <tbody>\n",
       "    <tr>\n",
       "      <th rowspan=\"9\" valign=\"top\">Athens</th>\n",
       "      <th>Bratislava</th>\n",
       "      <td>509979</td>\n",
       "    </tr>\n",
       "    <tr>\n",
       "      <th>Dusseldorf</th>\n",
       "      <td>1457289</td>\n",
       "    </tr>\n",
       "    <tr>\n",
       "      <th>Hamburg</th>\n",
       "      <td>2550048</td>\n",
       "    </tr>\n",
       "    <tr>\n",
       "      <th>Liege</th>\n",
       "      <td>523393</td>\n",
       "    </tr>\n",
       "    <tr>\n",
       "      <th>Lille</th>\n",
       "      <td>1199547</td>\n",
       "    </tr>\n",
       "    <tr>\n",
       "      <th>Rome</th>\n",
       "      <td>1441020</td>\n",
       "    </tr>\n",
       "    <tr>\n",
       "      <th>Venlo</th>\n",
       "      <td>2818858</td>\n",
       "    </tr>\n",
       "    <tr>\n",
       "      <th>Warsaw</th>\n",
       "      <td>1891874</td>\n",
       "    </tr>\n",
       "    <tr>\n",
       "      <th>Zaragoza</th>\n",
       "      <td>956023</td>\n",
       "    </tr>\n",
       "    <tr>\n",
       "      <th rowspan=\"10\" valign=\"top\">Barcelona</th>\n",
       "      <th></th>\n",
       "      <td>17746</td>\n",
       "    </tr>\n",
       "    <tr>\n",
       "      <th>Bratislava</th>\n",
       "      <td>412959</td>\n",
       "    </tr>\n",
       "    <tr>\n",
       "      <th>Dusseldorf</th>\n",
       "      <td>1148726</td>\n",
       "    </tr>\n",
       "    <tr>\n",
       "      <th>Hamburg</th>\n",
       "      <td>1965726</td>\n",
       "    </tr>\n",
       "    <tr>\n",
       "      <th>Liege</th>\n",
       "      <td>427977</td>\n",
       "    </tr>\n",
       "    <tr>\n",
       "      <th>Lille</th>\n",
       "      <td>959058</td>\n",
       "    </tr>\n",
       "    <tr>\n",
       "      <th>Rome</th>\n",
       "      <td>1164293</td>\n",
       "    </tr>\n",
       "    <tr>\n",
       "      <th>Venlo</th>\n",
       "      <td>2164002</td>\n",
       "    </tr>\n",
       "    <tr>\n",
       "      <th>Warsaw</th>\n",
       "      <td>1478149</td>\n",
       "    </tr>\n",
       "    <tr>\n",
       "      <th>Zaragoza</th>\n",
       "      <td>727078</td>\n",
       "    </tr>\n",
       "    <tr>\n",
       "      <th rowspan=\"10\" valign=\"top\">Rotterdam</th>\n",
       "      <th></th>\n",
       "      <td>493265</td>\n",
       "    </tr>\n",
       "    <tr>\n",
       "      <th>Bratislava</th>\n",
       "      <td>1255389</td>\n",
       "    </tr>\n",
       "    <tr>\n",
       "      <th>Dusseldorf</th>\n",
       "      <td>3460109</td>\n",
       "    </tr>\n",
       "    <tr>\n",
       "      <th>Hamburg</th>\n",
       "      <td>5904318</td>\n",
       "    </tr>\n",
       "    <tr>\n",
       "      <th>Liege</th>\n",
       "      <td>1297352</td>\n",
       "    </tr>\n",
       "    <tr>\n",
       "      <th>Lille</th>\n",
       "      <td>2822942</td>\n",
       "    </tr>\n",
       "    <tr>\n",
       "      <th>Rome</th>\n",
       "      <td>3422082</td>\n",
       "    </tr>\n",
       "    <tr>\n",
       "      <th>Venlo</th>\n",
       "      <td>6505352</td>\n",
       "    </tr>\n",
       "    <tr>\n",
       "      <th>Warsaw</th>\n",
       "      <td>4293495</td>\n",
       "    </tr>\n",
       "    <tr>\n",
       "      <th>Zaragoza</th>\n",
       "      <td>2146133</td>\n",
       "    </tr>\n",
       "  </tbody>\n",
       "</table>\n",
       "</div>"
      ],
      "text/plain": [
       "                            units\n",
       "origin_port logistic_hub         \n",
       "Athens      Bratislava     509979\n",
       "            Dusseldorf    1457289\n",
       "            Hamburg       2550048\n",
       "            Liege          523393\n",
       "            Lille         1199547\n",
       "            Rome          1441020\n",
       "            Venlo         2818858\n",
       "            Warsaw        1891874\n",
       "            Zaragoza       956023\n",
       "Barcelona                   17746\n",
       "            Bratislava     412959\n",
       "            Dusseldorf    1148726\n",
       "            Hamburg       1965726\n",
       "            Liege          427977\n",
       "            Lille          959058\n",
       "            Rome          1164293\n",
       "            Venlo         2164002\n",
       "            Warsaw        1478149\n",
       "            Zaragoza       727078\n",
       "Rotterdam                  493265\n",
       "            Bratislava    1255389\n",
       "            Dusseldorf    3460109\n",
       "            Hamburg       5904318\n",
       "            Liege         1297352\n",
       "            Lille         2822942\n",
       "            Rome          3422082\n",
       "            Venlo         6505352\n",
       "            Warsaw        4293495\n",
       "            Zaragoza      2146133"
      ]
     },
     "execution_count": 56,
     "metadata": {},
     "output_type": "execute_result"
    }
   ],
   "source": [
    "# orders grouped by origin port and logistic hub\n",
    "orders.groupby(by=['origin_port','logistic_hub']).agg({'units': 'sum'})"
   ]
  },
  {
   "cell_type": "markdown",
   "metadata": {},
   "source": [
    "### Effect of Customs Procedures on Lateness"
   ]
  },
  {
   "cell_type": "code",
   "execution_count": 57,
   "metadata": {},
   "outputs": [
    {
     "data": {
      "image/png": "[encoded data removed]",
      "text/plain": [
       "<Figure size 720x720 with 1 Axes>"
      ]
     },
     "metadata": {
      "needs_background": "light"
     },
     "output_type": "display_data"
    }
   ],
   "source": [
    "a = orders[orders['late_order'] == True].groupby(by=['customs_procedures']).count()[['order_id']]\n",
    "b = orders.groupby(by=['customs_procedures']).count()[['order_id']]\n",
    "c = (a/b).rename(columns={'order_id': 'late rate'})\n",
    "\n",
    "p = c.plot(kind='bar', figsize=(10,10))\n",
    "fig = p.get_figure().savefig(\"customs_procedures.png\")"
   ]
  },
  {
   "cell_type": "markdown",
   "metadata": {},
   "source": [
    "### Effect of Origin Port on Lateness"
   ]
  },
  {
   "cell_type": "code",
   "execution_count": 58,
   "metadata": {},
   "outputs": [
    {
     "data": {
      "image/png": "[encoded data removed]",
      "text/plain": [
       "<Figure size 720x720 with 1 Axes>"
      ]
     },
     "metadata": {
      "needs_background": "light"
     },
     "output_type": "display_data"
    }
   ],
   "source": [
    "a = orders[orders['late_order'] == True].groupby(by=['origin_port']).count()[['order_id']]\n",
    "b = orders.groupby(by=['origin_port']).count()[['order_id']]\n",
    "c = (a/b).rename(columns={'order_id': 'late rate'}).sort_values(by='late rate')\n",
    "\n",
    "p = c.plot(kind='bar', xlabel='origin port', figsize=(10,10))\n",
    "fig = p.get_figure().savefig(\"origin_ports.png\")"
   ]
  },
  {
   "cell_type": "markdown",
   "metadata": {},
   "source": [
    "### Effect of Logistic Hub on Lateness"
   ]
  },
  {
   "cell_type": "code",
   "execution_count": 59,
   "metadata": {},
   "outputs": [
    {
     "data": {
      "image/png": "[encoded data removed]",
      "text/plain": [
       "<Figure size 720x720 with 1 Axes>"
      ]
     },
     "metadata": {
      "needs_background": "light"
     },
     "output_type": "display_data"
    }
   ],
   "source": [
    "a = orders[orders['late_order'] == True].groupby(by=['logistic_hub']).count()[['order_id']]\n",
    "b = orders.groupby(by=['logistic_hub']).count()[['order_id']]\n",
    "c = (a/b).rename(columns={'order_id': 'late rate'}).sort_values(by='late rate')\n",
    "\n",
    "p = c.plot(kind='bar', xlabel='logistic hub', figsize=(10,10))\n",
    "fig = p.get_figure().savefig(\"logistic_hubs.png\")"
   ]
  },
  {
   "cell_type": "markdown",
   "metadata": {},
   "source": [
    "### Effect of 3rd-party Logistics on Lateness"
   ]
  },
  {
   "cell_type": "code",
   "execution_count": 60,
   "metadata": {},
   "outputs": [
    {
     "data": {
      "image/png": "[encoded data removed]",
      "text/plain": [
       "<Figure size 720x720 with 1 Axes>"
      ]
     },
     "metadata": {
      "needs_background": "light"
     },
     "output_type": "display_data"
    }
   ],
   "source": [
    "a = orders[orders['late_order'] == True].groupby(by=['3pl']).count()[['order_id']]\n",
    "b = orders.groupby(by=['3pl']).count()[['order_id']]\n",
    "c = (a/b).rename(columns={'order_id': 'late rate'})\n",
    "\n",
    "p = c.plot(kind='bar', figsize=(10,10))\n",
    "fig = p.get_figure().savefig(\"3rdparty_logistics.png\")"
   ]
  },
  {
   "cell_type": "markdown",
   "metadata": {},
   "source": [
    "### Effect of Number of Units on Lateness"
   ]
  },
  {
   "cell_type": "code",
   "execution_count": 61,
   "metadata": {},
   "outputs": [
    {
     "name": "stdout",
     "output_type": "stream",
     "text": [
      "max_units: 951\n",
      "unit_groups: 7\n",
      "unit_steps: [  0.         135.85714286 271.71428571 407.57142857 543.42857143\n",
      " 679.28571429 815.14285714 951.        ]\n"
     ]
    }
   ],
   "source": [
    "max_units = max(orders['units'])\n",
    "unit_groups = 7\n",
    "unit_steps = np.linspace(0, max_units, unit_groups + 1)\n",
    "print(f'max_units: {max_units}')\n",
    "print(f'unit_groups: {unit_groups}')\n",
    "print(f'unit_steps: {unit_steps}')"
   ]
  },
  {
   "cell_type": "code",
   "execution_count": 62,
   "metadata": {},
   "outputs": [
    {
     "name": "stdout",
     "output_type": "stream",
     "text": [
      "[0.0,135.85714285714286]: num_late=4, num_in_range=12, percentage=0.3333333333333333\n",
      "[135.85714285714286,271.7142857142857]: num_late=78, num_in_range=508, percentage=0.15354330708661418\n",
      "[271.7142857142857,407.57142857142856]: num_late=1937, num_in_range=12160, percentage=0.15929276315789473\n",
      "[407.57142857142856,543.4285714285714]: num_late=18179, num_in_range=82916, percentage=0.21924598388730765\n",
      "[543.4285714285714,679.2857142857143]: num_late=6286, num_in_range=17922, percentage=0.35074210467581746\n",
      "[679.2857142857143,815.1428571428571]: num_late=650, num_in_range=735, percentage=0.8843537414965986\n",
      "[815.1428571428571,951.0]: num_late=22, num_in_range=23, percentage=0.9565217391304348\n"
     ]
    },
    {
     "data": {
      "text/plain": [
       "<matplotlib.axes._subplots.AxesSubplot at 0x7fd75445c1c0>"
      ]
     },
     "execution_count": 62,
     "metadata": {},
     "output_type": "execute_result"
    },
    {
     "data": {
      "image/png": "[encoded data removed]",
      "text/plain": [
       "<Figure size 432x288 with 1 Axes>"
      ]
     },
     "metadata": {
      "needs_background": "light"
     },
     "output_type": "display_data"
    }
   ],
   "source": [
    "late_percentages = []\n",
    "for i in range(len(unit_steps) - 1):\n",
    "    x = orders[orders['units'].between(unit_steps[i], unit_steps[i+1])].groupby('late_order').count()[['units']]\n",
    "    num_late = x['units'][True]\n",
    "    num_in_range = x['units'][True] + x['units'][False]\n",
    "    late_percentages.append(num_late / num_in_range)\n",
    "    print(f'[{unit_steps[i]},{unit_steps[i+1]}]: num_late={num_late}, num_in_range={num_in_range}, percentage={late_percentages[i]}')\n",
    "\n",
    "# a = orders[orders['late_order'] == True].groupby(by=['units']).count()[['order_id']]\n",
    "# b = orders.groupby(by=['units']).count()[['order_id']]\n",
    "# c = (a/b).sort_values('order_id')\n",
    "\n",
    "pd.Series(late_percentages, unit_steps[:-1]).plot(xlabel='unit group', ylabel='late rate')\n",
    "\n",
    "#c.plot(kind='bar')\n",
    "#orders[orders['units'] < 500].sort_values(by='units').groupby('late_order').sum()[['units']]"
   ]
  },
  {
   "cell_type": "markdown",
   "metadata": {},
   "source": [
    "## Cities"
   ]
  },
  {
   "cell_type": "code",
   "execution_count": 63,
   "metadata": {},
   "outputs": [
    {
     "data": {
      "text/html": [
       "<div>\n",
       "<style scoped>\n",
       "    .dataframe tbody tr th:only-of-type {\n",
       "        vertical-align: middle;\n",
       "    }\n",
       "\n",
       "    .dataframe tbody tr th {\n",
       "        vertical-align: top;\n",
       "    }\n",
       "\n",
       "    .dataframe thead th {\n",
       "        text-align: right;\n",
       "    }\n",
       "</style>\n",
       "<table border=\"1\" class=\"dataframe\">\n",
       "  <thead>\n",
       "    <tr style=\"text-align: right;\">\n",
       "      <th></th>\n",
       "      <th>city_from_name</th>\n",
       "      <th>city_to_name</th>\n",
       "      <th>city_from_coord</th>\n",
       "      <th>city_to_coord</th>\n",
       "      <th>distance</th>\n",
       "    </tr>\n",
       "  </thead>\n",
       "  <tbody>\n",
       "    <tr>\n",
       "      <th>0</th>\n",
       "      <td>Dusseldorf</td>\n",
       "      <td>Zaragoza</td>\n",
       "      <td>(51.2254018, 6.7763137)</td>\n",
       "      <td>(41.6521342, -0.8809428)</td>\n",
       "      <td>1214.4772</td>\n",
       "    </tr>\n",
       "    <tr>\n",
       "      <th>1</th>\n",
       "      <td>Dusseldorf</td>\n",
       "      <td>Venlo</td>\n",
       "      <td>(51.2254018, 6.7763137)</td>\n",
       "      <td>(51.39244885, 6.1511724144122955)</td>\n",
       "      <td>47.3876</td>\n",
       "    </tr>\n",
       "    <tr>\n",
       "      <th>2</th>\n",
       "      <td>Dusseldorf</td>\n",
       "      <td>Bratislava</td>\n",
       "      <td>(51.2254018, 6.7763137)</td>\n",
       "      <td>(48.1516988, 17.1093063)</td>\n",
       "      <td>819.2894</td>\n",
       "    </tr>\n",
       "    <tr>\n",
       "      <th>3</th>\n",
       "      <td>Dusseldorf</td>\n",
       "      <td>Hamburg</td>\n",
       "      <td>(51.2254018, 6.7763137)</td>\n",
       "      <td>(53.550341, 10.000654)</td>\n",
       "      <td>339.2215</td>\n",
       "    </tr>\n",
       "    <tr>\n",
       "      <th>4</th>\n",
       "      <td>Dusseldorf</td>\n",
       "      <td>Rome</td>\n",
       "      <td>(51.2254018, 6.7763137)</td>\n",
       "      <td>(41.8933203, 12.4829321)</td>\n",
       "      <td>1125.0290</td>\n",
       "    </tr>\n",
       "  </tbody>\n",
       "</table>\n",
       "</div>"
      ],
      "text/plain": [
       "  city_from_name city_to_name          city_from_coord  \\\n",
       "0     Dusseldorf     Zaragoza  (51.2254018, 6.7763137)   \n",
       "1     Dusseldorf        Venlo  (51.2254018, 6.7763137)   \n",
       "2     Dusseldorf   Bratislava  (51.2254018, 6.7763137)   \n",
       "3     Dusseldorf      Hamburg  (51.2254018, 6.7763137)   \n",
       "4     Dusseldorf         Rome  (51.2254018, 6.7763137)   \n",
       "\n",
       "                       city_to_coord   distance  \n",
       "0           (41.6521342, -0.8809428)  1214.4772  \n",
       "1  (51.39244885, 6.1511724144122955)    47.3876  \n",
       "2           (48.1516988, 17.1093063)   819.2894  \n",
       "3             (53.550341, 10.000654)   339.2215  \n",
       "4           (41.8933203, 12.4829321)  1125.0290  "
      ]
     },
     "execution_count": 63,
     "metadata": {},
     "output_type": "execute_result"
    }
   ],
   "source": [
    "cities_data = pd.read_csv(data_dir + 'cities_data.csv', sep=';')\n",
    "\n",
    "cities_data.head()"
   ]
  },
  {
   "cell_type": "code",
   "execution_count": 77,
   "metadata": {},
   "outputs": [
    {
     "data": {
      "image/png": "[encoded data removed]",
      "text/plain": [
       "<Figure size 1800x720 with 1 Axes>"
      ]
     },
     "metadata": {
      "needs_background": "light"
     },
     "output_type": "display_data"
    }
   ],
   "source": [
    "# add distances to '' (i.e. no hub)\n",
    "cities_data_nohub = cities_data.copy()\n",
    "cities_data_nohub['city_to_name'] = ''\n",
    "cities_data_nohub['city_to_coord'] = ''\n",
    "cities_data_nohub['distance'] = 0.0\n",
    "cities_data_nohub = cities_data_nohub.drop_duplicates(['city_from_name'])\n",
    "\n",
    "cities_data_samecity = cities_data.copy()\n",
    "cities_data_samecity['city_to_name'] = cities_data_samecity['city_from_name']\n",
    "cities_data_samecity['city_to_coord'] = cities_data_samecity['city_from_coord']\n",
    "cities_data_samecity['distance'] = 0.0\n",
    "cities_data_samecity = cities_data_samecity.drop_duplicates(['city_from_name'])\n",
    "\n",
    "cities_data_with_nohub = pd.concat([cities_data, cities_data_nohub, cities_data_samecity])\n",
    "\n",
    "cities_data_reverse = cities_data_with_nohub.rename(columns={\n",
    "    'city_from_name': 'city_to_name',\n",
    "    'city_to_name': 'city_from_name',\n",
    "    'city_from_coord': 'city_to_coord',\n",
    "    'city_to_coord': 'city_from_coord'\n",
    "})\n",
    "cities_data_bothway = pd.concat([cities_data_with_nohub, cities_data_reverse]).drop_duplicates(['city_from_name', 'city_to_name'])\n",
    "\n",
    "# quick fix!\n",
    "cities_data_bothway = cities_data_bothway.append({\n",
    "    'city_from_name': '',\n",
    "    'city_to_name': 'Porto',\n",
    "    'distance': 1558.0329\n",
    "}, ignore_index=True).drop_duplicates(['city_from_name', 'city_to_name'], keep='last')\n",
    "\n",
    "orders_with_distance = orders \\\n",
    "    .merge(cities_data_bothway, how='left', left_on=['origin_port', 'logistic_hub'], right_on=['city_from_name', 'city_to_name']) \\\n",
    "    .merge(cities_data_bothway, how='left', left_on=['logistic_hub', 'customer'], right_on=['city_from_name', 'city_to_name'], suffixes=('_1', '_2'))\n",
    "\n",
    "orders_with_distance['total_distance'] = orders_with_distance['distance_1'] + orders_with_distance['distance_2']\n",
    "\n",
    "#print(orders_with_distance[orders_with_distance['total_distance'].isnull()])\n",
    "\n",
    "num_distance_groups = 3\n",
    "\n",
    "orders_with_distance_late = orders_with_distance[orders_with_distance['late_order'] == True]\n",
    "a = orders_with_distance_late.groupby(by=pd.cut(orders_with_distance_late['total_distance'], num_distance_groups)).count()\n",
    "b = orders_with_distance.groupby(by=pd.cut(orders_with_distance['total_distance'], num_distance_groups)).count()\n",
    "c = (a/b)['total_distance']\n",
    "\n",
    "c.index = range(num_distance_groups)\n",
    "p = c.plot(kind='barh', xlabel='total distance group', ylabel='late rate', figsize=(25,10))\n",
    "fig = p.get_figure().savefig(\"total_distances.png\")"
   ]
  },
  {
   "cell_type": "markdown",
   "metadata": {},
   "source": [
    "## Cities with Costs"
   ]
  },
  {
   "cell_type": "code",
   "execution_count": 65,
   "metadata": {},
   "outputs": [
    {
     "data": {
      "text/html": [
       "<div>\n",
       "<style scoped>\n",
       "    .dataframe tbody tr th:only-of-type {\n",
       "        vertical-align: middle;\n",
       "    }\n",
       "\n",
       "    .dataframe tbody tr th {\n",
       "        vertical-align: top;\n",
       "    }\n",
       "\n",
       "    .dataframe thead th {\n",
       "        text-align: right;\n",
       "    }\n",
       "</style>\n",
       "<table border=\"1\" class=\"dataframe\">\n",
       "  <thead>\n",
       "    <tr style=\"text-align: right;\">\n",
       "      <th></th>\n",
       "      <th>city_from_name</th>\n",
       "      <th>city_to_name</th>\n",
       "      <th>city_from_coord</th>\n",
       "      <th>city_to_coord</th>\n",
       "      <th>distance</th>\n",
       "      <th>weight_class</th>\n",
       "      <th>cost_per_unit</th>\n",
       "      <th>co2_per_unit</th>\n",
       "    </tr>\n",
       "  </thead>\n",
       "  <tbody>\n",
       "    <tr>\n",
       "      <th>0</th>\n",
       "      <td>Dusseldorf</td>\n",
       "      <td>Zaragoza</td>\n",
       "      <td>(51.2254018, 6.7763137)</td>\n",
       "      <td>(41.6521342, -0.8809428)</td>\n",
       "      <td>1214.4772</td>\n",
       "      <td>0</td>\n",
       "      <td>429.76</td>\n",
       "      <td>819.77</td>\n",
       "    </tr>\n",
       "    <tr>\n",
       "      <th>1</th>\n",
       "      <td>Dusseldorf</td>\n",
       "      <td>Zaragoza</td>\n",
       "      <td>(51.2254018, 6.7763137)</td>\n",
       "      <td>(41.6521342, -0.8809428)</td>\n",
       "      <td>1214.4772</td>\n",
       "      <td>1</td>\n",
       "      <td>472.74</td>\n",
       "      <td>901.75</td>\n",
       "    </tr>\n",
       "    <tr>\n",
       "      <th>2</th>\n",
       "      <td>Dusseldorf</td>\n",
       "      <td>Zaragoza</td>\n",
       "      <td>(51.2254018, 6.7763137)</td>\n",
       "      <td>(41.6521342, -0.8809428)</td>\n",
       "      <td>1214.4772</td>\n",
       "      <td>2</td>\n",
       "      <td>515.71</td>\n",
       "      <td>983.73</td>\n",
       "    </tr>\n",
       "    <tr>\n",
       "      <th>3</th>\n",
       "      <td>Dusseldorf</td>\n",
       "      <td>Zaragoza</td>\n",
       "      <td>(51.2254018, 6.7763137)</td>\n",
       "      <td>(41.6521342, -0.8809428)</td>\n",
       "      <td>1214.4772</td>\n",
       "      <td>3</td>\n",
       "      <td>558.69</td>\n",
       "      <td>1065.70</td>\n",
       "    </tr>\n",
       "    <tr>\n",
       "      <th>4</th>\n",
       "      <td>Dusseldorf</td>\n",
       "      <td>Zaragoza</td>\n",
       "      <td>(51.2254018, 6.7763137)</td>\n",
       "      <td>(41.6521342, -0.8809428)</td>\n",
       "      <td>1214.4772</td>\n",
       "      <td>4</td>\n",
       "      <td>601.66</td>\n",
       "      <td>1147.68</td>\n",
       "    </tr>\n",
       "  </tbody>\n",
       "</table>\n",
       "</div>"
      ],
      "text/plain": [
       "  city_from_name city_to_name          city_from_coord  \\\n",
       "0     Dusseldorf     Zaragoza  (51.2254018, 6.7763137)   \n",
       "1     Dusseldorf     Zaragoza  (51.2254018, 6.7763137)   \n",
       "2     Dusseldorf     Zaragoza  (51.2254018, 6.7763137)   \n",
       "3     Dusseldorf     Zaragoza  (51.2254018, 6.7763137)   \n",
       "4     Dusseldorf     Zaragoza  (51.2254018, 6.7763137)   \n",
       "\n",
       "              city_to_coord   distance  weight_class  cost_per_unit  \\\n",
       "0  (41.6521342, -0.8809428)  1214.4772             0         429.76   \n",
       "1  (41.6521342, -0.8809428)  1214.4772             1         472.74   \n",
       "2  (41.6521342, -0.8809428)  1214.4772             2         515.71   \n",
       "3  (41.6521342, -0.8809428)  1214.4772             3         558.69   \n",
       "4  (41.6521342, -0.8809428)  1214.4772             4         601.66   \n",
       "\n",
       "   co2_per_unit  \n",
       "0        819.77  \n",
       "1        901.75  \n",
       "2        983.73  \n",
       "3       1065.70  \n",
       "4       1147.68  "
      ]
     },
     "execution_count": 65,
     "metadata": {},
     "output_type": "execute_result"
    }
   ],
   "source": [
    "cities_costs = pd.read_csv(data_dir + 'cities_data_costs.csv', sep=',')\n",
    "\n",
    "cities_costs.head()"
   ]
  },
  {
   "cell_type": "markdown",
   "metadata": {},
   "source": [
    "## Product Attributes"
   ]
  },
  {
   "cell_type": "code",
   "execution_count": 66,
   "metadata": {},
   "outputs": [
    {
     "data": {
      "text/html": [
       "<div>\n",
       "<style scoped>\n",
       "    .dataframe tbody tr th:only-of-type {\n",
       "        vertical-align: middle;\n",
       "    }\n",
       "\n",
       "    .dataframe tbody tr th {\n",
       "        vertical-align: top;\n",
       "    }\n",
       "\n",
       "    .dataframe thead th {\n",
       "        text-align: right;\n",
       "    }\n",
       "</style>\n",
       "<table border=\"1\" class=\"dataframe\">\n",
       "  <thead>\n",
       "    <tr style=\"text-align: right;\">\n",
       "      <th></th>\n",
       "      <th>product_id</th>\n",
       "      <th>weight</th>\n",
       "      <th>material_handling</th>\n",
       "    </tr>\n",
       "  </thead>\n",
       "  <tbody>\n",
       "    <tr>\n",
       "      <th>0</th>\n",
       "      <td>1672707</td>\n",
       "      <td>2876</td>\n",
       "      <td>3</td>\n",
       "    </tr>\n",
       "    <tr>\n",
       "      <th>1</th>\n",
       "      <td>1694456</td>\n",
       "      <td>2785</td>\n",
       "      <td>5</td>\n",
       "    </tr>\n",
       "    <tr>\n",
       "      <th>2</th>\n",
       "      <td>1682865</td>\n",
       "      <td>2751</td>\n",
       "      <td>3</td>\n",
       "    </tr>\n",
       "    <tr>\n",
       "      <th>3</th>\n",
       "      <td>1689146</td>\n",
       "      <td>2736</td>\n",
       "      <td>0</td>\n",
       "    </tr>\n",
       "    <tr>\n",
       "      <th>4</th>\n",
       "      <td>1664069</td>\n",
       "      <td>2707</td>\n",
       "      <td>4</td>\n",
       "    </tr>\n",
       "  </tbody>\n",
       "</table>\n",
       "</div>"
      ],
      "text/plain": [
       "   product_id  weight  material_handling\n",
       "0     1672707    2876                  3\n",
       "1     1694456    2785                  5\n",
       "2     1682865    2751                  3\n",
       "3     1689146    2736                  0\n",
       "4     1664069    2707                  4"
      ]
     },
     "execution_count": 66,
     "metadata": {},
     "output_type": "execute_result"
    }
   ],
   "source": [
    "product_attributes = pd.read_csv(data_dir + 'product_attributes.csv', sep=',')\n",
    "\n",
    "product_attributes.head()"
   ]
  },
  {
   "cell_type": "code",
   "execution_count": 67,
   "metadata": {},
   "outputs": [
    {
     "data": {
      "text/html": [
       "<div>\n",
       "<style scoped>\n",
       "    .dataframe tbody tr th:only-of-type {\n",
       "        vertical-align: middle;\n",
       "    }\n",
       "\n",
       "    .dataframe tbody tr th {\n",
       "        vertical-align: top;\n",
       "    }\n",
       "\n",
       "    .dataframe thead th {\n",
       "        text-align: right;\n",
       "    }\n",
       "</style>\n",
       "<table border=\"1\" class=\"dataframe\">\n",
       "  <thead>\n",
       "    <tr style=\"text-align: right;\">\n",
       "      <th></th>\n",
       "      <th>product_id</th>\n",
       "      <th>weight</th>\n",
       "    </tr>\n",
       "    <tr>\n",
       "      <th>material_handling</th>\n",
       "      <th></th>\n",
       "      <th></th>\n",
       "    </tr>\n",
       "  </thead>\n",
       "  <tbody>\n",
       "    <tr>\n",
       "      <th>0</th>\n",
       "      <td>93</td>\n",
       "      <td>127170</td>\n",
       "    </tr>\n",
       "    <tr>\n",
       "      <th>1</th>\n",
       "      <td>41</td>\n",
       "      <td>53108</td>\n",
       "    </tr>\n",
       "    <tr>\n",
       "      <th>2</th>\n",
       "      <td>127</td>\n",
       "      <td>163801</td>\n",
       "    </tr>\n",
       "    <tr>\n",
       "      <th>3</th>\n",
       "      <td>159</td>\n",
       "      <td>197141</td>\n",
       "    </tr>\n",
       "    <tr>\n",
       "      <th>4</th>\n",
       "      <td>89</td>\n",
       "      <td>122653</td>\n",
       "    </tr>\n",
       "    <tr>\n",
       "      <th>5</th>\n",
       "      <td>263</td>\n",
       "      <td>342273</td>\n",
       "    </tr>\n",
       "  </tbody>\n",
       "</table>\n",
       "</div>"
      ],
      "text/plain": [
       "                   product_id  weight\n",
       "material_handling                    \n",
       "0                          93  127170\n",
       "1                          41   53108\n",
       "2                         127  163801\n",
       "3                         159  197141\n",
       "4                          89  122653\n",
       "5                         263  342273"
      ]
     },
     "execution_count": 67,
     "metadata": {},
     "output_type": "execute_result"
    }
   ],
   "source": [
    "# product attributes grouped by material handling\n",
    "product_attributes.groupby(by='material_handling').agg({'product_id': 'count', 'weight': 'sum'})"
   ]
  },
  {
   "cell_type": "markdown",
   "metadata": {},
   "source": [
    "### Effect of Weight on Lateness"
   ]
  },
  {
   "cell_type": "code",
   "execution_count": 78,
   "metadata": {},
   "outputs": [
    {
     "data": {
      "image/png": "[encoded data removed]",
      "text/plain": [
       "<Figure size 720x720 with 1 Axes>"
      ]
     },
     "metadata": {
      "needs_background": "light"
     },
     "output_type": "display_data"
    }
   ],
   "source": [
    "num_weight_groups = 3\n",
    "\n",
    "a = product_attributes.set_index('product_id').join(orders.set_index('product_id'))\n",
    "a['order_weight'] = a['weight'] * a['units']\n",
    "a_late = a[a['late_order'] == True]\n",
    "b = a_late.groupby(by=pd.cut(a_late['order_weight'], num_weight_groups)).count()\n",
    "c = a.groupby(by=pd.cut(a['order_weight'], num_weight_groups)).count()\n",
    "d = (b/c)['weight']\n",
    "\n",
    "d.index = range(num_weight_groups)\n",
    "p = d.plot(kind='bar', xlabel='weight groups', ylabel='late rate', figsize=(10,10))\n",
    "fig = p.get_figure().savefig(\"order_weight.png\")"
   ]
  },
  {
   "cell_type": "markdown",
   "metadata": {},
   "source": [
    "### Effect of Material Handling on Lateness"
   ]
  },
  {
   "cell_type": "code",
   "execution_count": 69,
   "metadata": {},
   "outputs": [
    {
     "data": {
      "image/png": "[encoded data removed]",
      "text/plain": [
       "<Figure size 720x720 with 1 Axes>"
      ]
     },
     "metadata": {
      "needs_background": "light"
     },
     "output_type": "display_data"
    }
   ],
   "source": [
    "a = product_attributes.set_index('product_id').join(orders.set_index('product_id'), how='inner').set_index('order_id')\n",
    "\n",
    "b = a[a['late_order'] == True].groupby(by=['material_handling']).count()['origin_port']\n",
    "c = a.groupby(by=['material_handling']).count()['origin_port']\n",
    "d = (b/c)\n",
    "d\n",
    "\n",
    "p = d.plot(kind='bar', xlabel='material handling', ylabel='late rate', figsize=(10,10))\n",
    "fig = p.get_figure().savefig(\"material_handling.png\")"
   ]
  },
  {
   "cell_type": "markdown",
   "metadata": {},
   "source": [
    "## Product Weight Classes"
   ]
  },
  {
   "cell_type": "code",
   "execution_count": 70,
   "metadata": {},
   "outputs": [
    {
     "data": {
      "text/html": [
       "<div>\n",
       "<style scoped>\n",
       "    .dataframe tbody tr th:only-of-type {\n",
       "        vertical-align: middle;\n",
       "    }\n",
       "\n",
       "    .dataframe tbody tr th {\n",
       "        vertical-align: top;\n",
       "    }\n",
       "\n",
       "    .dataframe thead th {\n",
       "        text-align: right;\n",
       "    }\n",
       "</style>\n",
       "<table border=\"1\" class=\"dataframe\">\n",
       "  <thead>\n",
       "    <tr style=\"text-align: right;\">\n",
       "      <th></th>\n",
       "      <th>product_id</th>\n",
       "      <th>weight_class</th>\n",
       "    </tr>\n",
       "  </thead>\n",
       "  <tbody>\n",
       "    <tr>\n",
       "      <th>0</th>\n",
       "      <td>1660578</td>\n",
       "      <td>0</td>\n",
       "    </tr>\n",
       "    <tr>\n",
       "      <th>1</th>\n",
       "      <td>1699768</td>\n",
       "      <td>0</td>\n",
       "    </tr>\n",
       "    <tr>\n",
       "      <th>2</th>\n",
       "      <td>1699799</td>\n",
       "      <td>0</td>\n",
       "    </tr>\n",
       "    <tr>\n",
       "      <th>3</th>\n",
       "      <td>1683403</td>\n",
       "      <td>0</td>\n",
       "    </tr>\n",
       "    <tr>\n",
       "      <th>4</th>\n",
       "      <td>1682793</td>\n",
       "      <td>0</td>\n",
       "    </tr>\n",
       "  </tbody>\n",
       "</table>\n",
       "</div>"
      ],
      "text/plain": [
       "   product_id  weight_class\n",
       "0     1660578             0\n",
       "1     1699768             0\n",
       "2     1699799             0\n",
       "3     1683403             0\n",
       "4     1682793             0"
      ]
     },
     "execution_count": 70,
     "metadata": {},
     "output_type": "execute_result"
    }
   ],
   "source": [
    "product_weight_classes = pd.read_csv(data_dir + 'product_weight_class.csv', sep=',')\n",
    "\n",
    "product_weight_classes.head()"
   ]
  },
  {
   "cell_type": "code",
   "execution_count": 71,
   "metadata": {},
   "outputs": [
    {
     "data": {
      "text/html": [
       "<div>\n",
       "<style scoped>\n",
       "    .dataframe tbody tr th:only-of-type {\n",
       "        vertical-align: middle;\n",
       "    }\n",
       "\n",
       "    .dataframe tbody tr th {\n",
       "        vertical-align: top;\n",
       "    }\n",
       "\n",
       "    .dataframe thead th {\n",
       "        text-align: right;\n",
       "    }\n",
       "</style>\n",
       "<table border=\"1\" class=\"dataframe\">\n",
       "  <thead>\n",
       "    <tr style=\"text-align: right;\">\n",
       "      <th></th>\n",
       "      <th>product_id</th>\n",
       "    </tr>\n",
       "    <tr>\n",
       "      <th>weight_class</th>\n",
       "      <th></th>\n",
       "    </tr>\n",
       "  </thead>\n",
       "  <tbody>\n",
       "    <tr>\n",
       "      <th>0</th>\n",
       "      <td>77</td>\n",
       "    </tr>\n",
       "    <tr>\n",
       "      <th>1</th>\n",
       "      <td>77</td>\n",
       "    </tr>\n",
       "    <tr>\n",
       "      <th>2</th>\n",
       "      <td>77</td>\n",
       "    </tr>\n",
       "    <tr>\n",
       "      <th>3</th>\n",
       "      <td>77</td>\n",
       "    </tr>\n",
       "    <tr>\n",
       "      <th>4</th>\n",
       "      <td>77</td>\n",
       "    </tr>\n",
       "    <tr>\n",
       "      <th>5</th>\n",
       "      <td>77</td>\n",
       "    </tr>\n",
       "    <tr>\n",
       "      <th>6</th>\n",
       "      <td>77</td>\n",
       "    </tr>\n",
       "    <tr>\n",
       "      <th>7</th>\n",
       "      <td>77</td>\n",
       "    </tr>\n",
       "    <tr>\n",
       "      <th>8</th>\n",
       "      <td>77</td>\n",
       "    </tr>\n",
       "    <tr>\n",
       "      <th>9</th>\n",
       "      <td>79</td>\n",
       "    </tr>\n",
       "  </tbody>\n",
       "</table>\n",
       "</div>"
      ],
      "text/plain": [
       "              product_id\n",
       "weight_class            \n",
       "0                     77\n",
       "1                     77\n",
       "2                     77\n",
       "3                     77\n",
       "4                     77\n",
       "5                     77\n",
       "6                     77\n",
       "7                     77\n",
       "8                     77\n",
       "9                     79"
      ]
     },
     "execution_count": 71,
     "metadata": {},
     "output_type": "execute_result"
    }
   ],
   "source": [
    "# grouped by weight classes\n",
    "product_weight_classes.groupby(by='weight_class').agg({'product_id': 'count'})"
   ]
  }
 ],
 "metadata": {
  "kernelspec": {
   "display_name": "Python 3.8.10 64-bit",
   "language": "python",
   "name": "python3"
  },
  "language_info": {
   "codemirror_mode": {
    "name": "ipython",
    "version": 3
   },
   "file_extension": ".py",
   "mimetype": "text/x-python",
   "name": "python",
   "nbconvert_exporter": "python",
   "pygments_lexer": "ipython3",
   "version": "3.8.10"
  },
  "vscode": {
   "interpreter": {
    "hash": "31f2aee4e71d21fbe5cf8b01ff0e069b9275f58929596ceb00d14d90e3e16cd6"
   }
  }
 },
 "nbformat": 4,
 "nbformat_minor": 4
}
